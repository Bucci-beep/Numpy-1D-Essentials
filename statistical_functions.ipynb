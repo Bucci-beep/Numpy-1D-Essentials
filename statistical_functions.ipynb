{
 "cells": [
  {
   "cell_type": "code",
   "execution_count": 4,
   "id": "7f0e5884-ec7f-4b66-80e0-df3a1c73d0bd",
   "metadata": {},
   "outputs": [
    {
     "data": {
      "text/plain": [
       "45"
      ]
     },
     "execution_count": 4,
     "metadata": {},
     "output_type": "execute_result"
    }
   ],
   "source": [
    "# Given arr = np.array([5, 15, 25, 35, 45]): Find the mean, max, min, and standard deviation\n",
    "import numpy as np\n",
    "arr = np.array([5, 15, 25, 35, 45])\n",
    "\n",
    "# calculating the mean\n",
    "mean_arr = arr.mean()\n",
    "\n",
    "# calculating the max\n",
    "max_arr = arr.max()\n",
    "\n",
    "# calculating the min\n",
    "min_arr = arr.min()\n",
    "\n",
    "# calculating the standard deviation\n",
    "std_dvt_arr = arr.std()\n",
    "\n",
    "print(\"Mean:\", ,mean_arr)\n",
    "print(\"Max:\", max_arr)\n",
    "print(\":\", log_arr)"
   ]
  },
  {
   "cell_type": "code",
   "execution_count": null,
   "id": "e3d56492-555e-493d-9d04-84b43eaa5e46",
   "metadata": {},
   "outputs": [],
   "source": []
  }
 ],
 "metadata": {
  "kernelspec": {
   "display_name": "Python 3 (ipykernel)",
   "language": "python",
   "name": "python3"
  },
  "language_info": {
   "codemirror_mode": {
    "name": "ipython",
    "version": 3
   },
   "file_extension": ".py",
   "mimetype": "text/x-python",
   "name": "python",
   "nbconvert_exporter": "python",
   "pygments_lexer": "ipython3",
   "version": "3.12.7"
  }
 },
 "nbformat": 4,
 "nbformat_minor": 5
}
