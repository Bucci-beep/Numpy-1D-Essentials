{
 "cells": [
  {
   "cell_type": "code",
   "execution_count": 4,
   "id": "1dc61533-a068-4eaa-8054-30e8c2826b2c",
   "metadata": {},
   "outputs": [
    {
     "data": {
      "text/plain": [
       "array([90,  1, 25, 69, 40, 75, 49,  6, 25,  8])"
      ]
     },
     "execution_count": 4,
     "metadata": {},
     "output_type": "execute_result"
    }
   ],
   "source": [
    "# Create a 1D array with 10 random integers between 1 and 100:\n",
    "import numpy as np\n",
    "a = np.random.randint(1, 101, 10)\n",
    "a"
   ]
  },
  {
   "cell_type": "code",
   "execution_count": 5,
   "id": "6ffcc3fd-2d4c-4d33-a914-f0e4c408182c",
   "metadata": {},
   "outputs": [
    {
     "data": {
      "text/plain": [
       "array([180,   2,  50, 138,  80, 150,  98,  12,  50,  16])"
      ]
     },
     "execution_count": 5,
     "metadata": {},
     "output_type": "execute_result"
    }
   ],
   "source": [
    "# Multiply by 2\n",
    "res_a = a * 2\n"
   ]
  },
  {
   "cell_type": "code",
   "execution_count": 7,
   "id": "954f6f9c-2620-46f2-8779-15d9da91602f",
   "metadata": {},
   "outputs": [],
   "source": [
    "# Find how many values are above 50\n",
    "above_50 = a > 50\n",
    "count = np.sum(above_50)"
   ]
  },
  {
   "cell_type": "code",
   "execution_count": 10,
   "id": "1179a068-7ff0-47b5-b5c5-318fbe06337d",
   "metadata": {},
   "outputs": [],
   "source": [
    "# Replace all values below 30 with 0 using masking\n",
    "replaced = a.copy()\n",
    "replaced [replaced < 30] = 0"
   ]
  },
  {
   "cell_type": "code",
   "execution_count": 11,
   "id": "919b1bf3-d935-47ce-8d91-7109117016cd",
   "metadata": {},
   "outputs": [
    {
     "name": "stdout",
     "output_type": "stream",
     "text": [
      "Original: [90  1 25 69 40 75 49  6 25  8]\n",
      "Doubled: [180   2  50 138  80 150  98  12  50  16]\n",
      "How many above 50: 3\n",
      "Replaced values below 30 [90  0  0 69 40 75 49  0  0  0]\n"
     ]
    }
   ],
   "source": [
    "# Print everything\n",
    "print(\"Original:\", a)\n",
    "print(\"Doubled:\", res_a)\n",
    "print(\"How many above 50:\", count)\n",
    "print(\"Replaced values below 30\", replaced)"
   ]
  },
  {
   "cell_type": "code",
   "execution_count": null,
   "id": "2ed6392c-14a4-45b3-b06c-4109d30e509a",
   "metadata": {},
   "outputs": [],
   "source": []
  }
 ],
 "metadata": {
  "kernelspec": {
   "display_name": "Python 3 (ipykernel)",
   "language": "python",
   "name": "python3"
  },
  "language_info": {
   "codemirror_mode": {
    "name": "ipython",
    "version": 3
   },
   "file_extension": ".py",
   "mimetype": "text/x-python",
   "name": "python",
   "nbconvert_exporter": "python",
   "pygments_lexer": "ipython3",
   "version": "3.12.7"
  }
 },
 "nbformat": 4,
 "nbformat_minor": 5
}
