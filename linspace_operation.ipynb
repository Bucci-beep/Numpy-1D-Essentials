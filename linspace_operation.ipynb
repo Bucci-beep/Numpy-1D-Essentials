{
 "cells": [
  {
   "cell_type": "code",
   "execution_count": 5,
   "id": "46a926bc-b1c6-4488-a8e6-209b7086ab0d",
   "metadata": {},
   "outputs": [
    {
     "data": {
      "text/plain": [
       "array([0.  , 0.25, 0.5 , 0.75, 1.  ])"
      ]
     },
     "execution_count": 5,
     "metadata": {},
     "output_type": "execute_result"
    }
   ],
   "source": [
    "# Generate: 5 numbers between 0 and 1 using np.linspace(0, 1, 5)\n",
    "import numpy as np\n",
    "a = np.linspace(0, 1, 5)\n",
    "a"
   ]
  },
  {
   "cell_type": "code",
   "execution_count": null,
   "id": "c87425e7-901c-44dc-a4a8-d8610410a304",
   "metadata": {},
   "outputs": [],
   "source": [
    "# 10 numbers between 2 and 10\n",
    "b = np.linsp"
   ]
  }
 ],
 "metadata": {
  "kernelspec": {
   "display_name": "Python 3 (ipykernel)",
   "language": "python",
   "name": "python3"
  },
  "language_info": {
   "codemirror_mode": {
    "name": "ipython",
    "version": 3
   },
   "file_extension": ".py",
   "mimetype": "text/x-python",
   "name": "python",
   "nbconvert_exporter": "python",
   "pygments_lexer": "ipython3",
   "version": "3.12.7"
  }
 },
 "nbformat": 4,
 "nbformat_minor": 5
}
