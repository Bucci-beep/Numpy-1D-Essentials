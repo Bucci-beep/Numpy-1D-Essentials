{
 "cells": [
  {
   "cell_type": "code",
   "execution_count": null,
   "id": "df92ff01-d0a4-48cd-8266-47c8f94b89cc",
   "metadata": {},
   "outputs": [],
   "source": [
    "# Calculate the dot product of:a = np.array([2, 3]) and b = np.array([4, 5])\n",
    "a = np.array([2, 3])\n",
    "b = np.array"
   ]
  }
 ],
 "metadata": {
  "kernelspec": {
   "display_name": "Python 3 (ipykernel)",
   "language": "python",
   "name": "python3"
  },
  "language_info": {
   "codemirror_mode": {
    "name": "ipython",
    "version": 3
   },
   "file_extension": ".py",
   "mimetype": "text/x-python",
   "name": "python",
   "nbconvert_exporter": "python",
   "pygments_lexer": "ipython3",
   "version": "3.12.7"
  }
 },
 "nbformat": 4,
 "nbformat_minor": 5
}
