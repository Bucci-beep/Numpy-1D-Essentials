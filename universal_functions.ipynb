{
 "cells": [
  {
   "cell_type": "code",
   "execution_count": 3,
   "id": "2c3fb1a6-32ba-439a-a675-b6ad4bb98437",
   "metadata": {},
   "outputs": [
    {
     "data": {
      "text/plain": [
       "array([1., 2., 3., 4.])"
      ]
     },
     "execution_count": 3,
     "metadata": {},
     "output_type": "execute_result"
    }
   ],
   "source": [
    "# Given arr = np.array([1, 4, 9, 16])\n",
    "\n",
    "# Find the square root using np.sqrt()\n",
    "import numpy as np\n",
    "arr = np.array([1, 4, 9, 16]) # initial array\n",
    "sqrt_arr = np.sqrt(arr)\n",
    "\n",
    "# Find the exponential using np.exp()\n",
    "exp_arr = np.exp(arr)\n",
    "\n",
    "# Take log using np.log()\n",
    "log_arr = np.log(arr)"
   ]
  },
  {
   "cell_type": "code",
   "execution_count": 6,
   "id": "3a9836e4-5564-422f-b8e7-52209dc629cc",
   "metadata": {},
   "outputs": [
    {
     "name": "stdout",
     "output_type": "stream",
     "text": [
      "Square root: [1. 2. 3. 4.]\n",
      "Exponential: [ 2.71828183  7.3890561  20.08553692 54.59815003]\n",
      "Logarithm: [1. 2. 3. 4.]\n"
     ]
    }
   ],
   "source": [
    "print(\"Square root:\", sqrt_arr)\n",
    "print(\"Exponential:\", exp_arr)\n",
    "print(\"Logarithm:\", log_arr)"
   ]
  },
  {
   "cell_type": "code",
   "execution_count": null,
   "id": "fb9e7b1e-4263-4090-aff8-563a2cf3a6c8",
   "metadata": {},
   "outputs": [],
   "source": []
  }
 ],
 "metadata": {
  "kernelspec": {
   "display_name": "Python 3 (ipykernel)",
   "language": "python",
   "name": "python3"
  },
  "language_info": {
   "codemirror_mode": {
    "name": "ipython",
    "version": 3
   },
   "file_extension": ".py",
   "mimetype": "text/x-python",
   "name": "python",
   "nbconvert_exporter": "python",
   "pygments_lexer": "ipython3",
   "version": "3.12.7"
  }
 },
 "nbformat": 4,
 "nbformat_minor": 5
}
